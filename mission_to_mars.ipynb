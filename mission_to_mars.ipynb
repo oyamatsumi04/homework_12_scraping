{
 "cells": [
  {
   "cell_type": "code",
   "execution_count": 1,
   "metadata": {},
   "outputs": [],
   "source": [
    "#importing necessary dependencies\n",
    "import pymongo\n",
    "import datetime\n",
    "import pandas as pd\n",
    "from splinter import Browser\n",
    "from splinter.exceptions import ElementDoesNotExist\n",
    "from bs4 import BeautifulSoup\n",
    "import requests\n",
    "import os"
   ]
  },
  {
   "cell_type": "code",
   "execution_count": 6,
   "metadata": {},
   "outputs": [],
   "source": [
    "#nasa.gov url retrieval\n",
    "article_url = 'https://mars.nasa.gov/news'\n",
    "# Retrieve page with the requests module\n",
    "article_response = requests.get(article_url)\n",
    "\n",
    "#create BeautifulSoup object; parse with 'html parser'\n",
    "article_soup = BeautifulSoup(article_response.text, 'html.parser')\n",
    "#print(article_soup.prettify())"
   ]
  },
  {
   "cell_type": "code",
   "execution_count": 7,
   "metadata": {},
   "outputs": [
    {
     "name": "stdout",
     "output_type": "stream",
     "text": [
      "--------------\n",
      "\n",
      "NASA Garners 7 Webby Award Nominations\n",
      "\n",
      "\n",
      "Nominees include four JPL projects: the solar system and climate websites, InSight social media, and a 360-degree Earth video. Public voting closes April 18, 2019.\n",
      "\n",
      "--------------\n",
      "\n",
      "NASA's Opportunity Rover Mission on Mars Comes to End\n",
      "\n",
      "\n",
      "NASA's Opportunity Mars rover mission is complete after 15 years on Mars. Opportunity's record-breaking exploration laid the groundwork for future missions to the Red Planet.\n",
      "\n",
      "--------------\n",
      "\n",
      "NASA's InSight Places First Instrument on Mars\n",
      "\n",
      "\n",
      "In deploying its first instrument onto the surface of Mars, the lander completes a major mission milestone.\n",
      "\n",
      "--------------\n",
      "\n",
      "NASA Announces Landing Site for Mars 2020 Rover\n",
      "\n",
      "\n",
      "After a five-year search, NASA has chosen Jezero Crater as the landing site for its upcoming Mars 2020 rover mission.\n",
      "\n",
      "--------------\n",
      "\n",
      "Opportunity Hunkers Down During Dust Storm\n",
      "\n",
      "\n",
      "It's the beginning of the end for the planet-encircling dust storm on Mars. But it could still be weeks, or even months, before skies are clear enough for NASA's Opportunity rover to recharge its batteries and phone home. \n",
      "\n",
      "--------------\n",
      "\n",
      "NASA Finds Ancient Organic Material, Mysterious Methane on Mars\n",
      "\n",
      "\n",
      "NASA’s Curiosity rover has found evidence on Mars with implications for NASA’s search for life.\n",
      "\n"
     ]
    }
   ],
   "source": [
    "#extract headlines from nasa.gov\n",
    "headlines = article_soup.find_all('div', class_=\"slide\")\n",
    "for headline in headlines:\n",
    "    titles = headline.find('div', class_=\"content_title\")\n",
    "    title = titles.find('a').text\n",
    "    articles = headline.find('div', class_=\"rollover_description\")\n",
    "    article = articles.find('div', class_=\"rollover_description_inner\").text\n",
    "    print('--------------')\n",
    "    print(title)\n",
    "    print(article)"
   ]
  },
  {
   "cell_type": "code",
   "execution_count": 8,
   "metadata": {},
   "outputs": [
    {
     "name": "stdout",
     "output_type": "stream",
     "text": [
      "/usr/local/bin/chromedriver\r\n"
     ]
    }
   ],
   "source": [
    "#splinter dependencies\n",
    "!which chromedriver\n",
    "executable_path = {'executable_path': '/usr/local/bin/chromedriver'}\n",
    "browser = Browser('chrome', **executable_path, headless=False)"
   ]
  },
  {
   "cell_type": "code",
   "execution_count": 9,
   "metadata": {},
   "outputs": [],
   "source": [
    "images_url = 'https://www.jpl.nasa.gov/spaceimages/?search=&category=Mars'\n",
    "# Retrieve page with the requests module\n",
    "images_response = requests.get(images_url)\n",
    "\n",
    "#create BeautifulSoup object; parse with 'html parser'\n",
    "images_soup = BeautifulSoup(images_response.text, 'html.parser')\n",
    "#print(images_soup.prettify())"
   ]
  },
  {
   "cell_type": "code",
   "execution_count": 10,
   "metadata": {},
   "outputs": [],
   "source": [
    "#crawls html for all content included in the class 'fancybox'\n",
    "image_grab = images_soup.find_all('a', class_='fancybox')\n",
    "#image_grab"
   ]
  },
  {
   "cell_type": "code",
   "execution_count": 11,
   "metadata": {},
   "outputs": [
    {
     "data": {
      "text/plain": [
       "'https://www.jpl.nasa.gov/spaceimages/images/largesize/PIA23133_hires.jpg'"
      ]
     },
     "execution_count": 11,
     "metadata": {},
     "output_type": "execute_result"
    }
   ],
   "source": [
    "#image grab and url append\n",
    "pic_url = []\n",
    "for image in image_grab:\n",
    "    pic = image['data-fancybox-href']\n",
    "    pic_url.append(pic)\n",
    "\n",
    "featured_image_url = 'https://www.jpl.nasa.gov' + pic\n",
    "featured_image_url"
   ]
  },
  {
   "cell_type": "code",
   "execution_count": 12,
   "metadata": {},
   "outputs": [],
   "source": [
    "weather_url = 'https://twitter.com/marswxreport?lang=en'\n",
    "# Retrieve page with the requests module\n",
    "weather_response = requests.get(weather_url)\n",
    "\n",
    "#create BeautifulSoup object; parse with 'html parser'\n",
    "weather_soup = BeautifulSoup(weather_response.text, 'html.parser')\n",
    "#print(weather_soup.prettify())"
   ]
  },
  {
   "cell_type": "code",
   "execution_count": 13,
   "metadata": {},
   "outputs": [],
   "source": [
    "weather_grab = weather_soup.find_all('div', class_=\"js-tweet-text-container\")\n",
    "#weather_grab"
   ]
  },
  {
   "cell_type": "code",
   "execution_count": 14,
   "metadata": {},
   "outputs": [
    {
     "data": {
      "text/plain": [
       "'InSight sol 135 (2019-04-13) low -96.5ºC (-141.8ºF) high -16.6ºC (2.2ºF)\\nwinds from the SW at 4.2 m/s (9.4 mph) gusting to 11.3 m/s (25.3 mph)\\npressure at 7.30 hPapic.twitter.com/bRsLlzn4M0'"
      ]
     },
     "execution_count": 14,
     "metadata": {},
     "output_type": "execute_result"
    }
   ],
   "source": [
    "for forecasts in weather_grab:\n",
    "    mars_weather = forecasts.find('p', class_=\"TweetTextSize TweetTextSize--normal js-tweet-text tweet-text\")\n",
    "forecast = forecasts.find('p').text\n",
    "forecast"
   ]
  },
  {
   "cell_type": "code",
   "execution_count": 15,
   "metadata": {},
   "outputs": [
    {
     "data": {
      "text/plain": [
       "[                      0                              1\n",
       " 0  Equatorial Diameter:                       6,792 km\n",
       " 1       Polar Diameter:                       6,752 km\n",
       " 2                 Mass:  6.42 x 10^23 kg (10.7% Earth)\n",
       " 3                Moons:            2 (Phobos & Deimos)\n",
       " 4       Orbit Distance:       227,943,824 km (1.52 AU)\n",
       " 5         Orbit Period:           687 days (1.9 years)\n",
       " 6  Surface Temperature:                  -153 to 20 °C\n",
       " 7         First Record:              2nd millennium BC\n",
       " 8          Recorded By:           Egyptian astronomers]"
      ]
     },
     "execution_count": 15,
     "metadata": {},
     "output_type": "execute_result"
    }
   ],
   "source": [
    "#use pandas to pull tables from mars facts website\n",
    "mars_facts_url= 'https://space-facts.com/mars/'\n",
    "mars_facts_tables = pd.read_html(mars_facts_url)\n",
    "mars_facts_tables"
   ]
  },
  {
   "cell_type": "code",
   "execution_count": 16,
   "metadata": {},
   "outputs": [],
   "source": [
    "#set table to data frame\n",
    "mars_facts_df=mars_facts_tables[0]\n",
    "mars_facts_df.columns=['Description', 'Data']\n",
    "mars_facts_df=mars_facts_df.set_index(\"Description\")\n",
    "#mars_facts_df"
   ]
  },
  {
   "cell_type": "code",
   "execution_count": 17,
   "metadata": {},
   "outputs": [
    {
     "data": {
      "text/plain": [
       "'<table border=\"1\" class=\"dataframe\">\\n  <thead>\\n    <tr style=\"text-align: right;\">\\n      <th></th>\\n      <th>Data</th>\\n    </tr>\\n    <tr>\\n      <th>Description</th>\\n      <th></th>\\n    </tr>\\n  </thead>\\n  <tbody>\\n    <tr>\\n      <th>Equatorial Diameter:</th>\\n      <td>6,792 km</td>\\n    </tr>\\n    <tr>\\n      <th>Polar Diameter:</th>\\n      <td>6,752 km</td>\\n    </tr>\\n    <tr>\\n      <th>Mass:</th>\\n      <td>6.42 x 10^23 kg (10.7% Earth)</td>\\n    </tr>\\n    <tr>\\n      <th>Moons:</th>\\n      <td>2 (Phobos &amp; Deimos)</td>\\n    </tr>\\n    <tr>\\n      <th>Orbit Distance:</th>\\n      <td>227,943,824 km (1.52 AU)</td>\\n    </tr>\\n    <tr>\\n      <th>Orbit Period:</th>\\n      <td>687 days (1.9 years)</td>\\n    </tr>\\n    <tr>\\n      <th>Surface Temperature:</th>\\n      <td>-153 to 20 °C</td>\\n    </tr>\\n    <tr>\\n      <th>First Record:</th>\\n      <td>2nd millennium BC</td>\\n    </tr>\\n    <tr>\\n      <th>Recorded By:</th>\\n      <td>Egyptian astronomers</td>\\n    </tr>\\n  </tbody>\\n</table>'"
      ]
     },
     "execution_count": 17,
     "metadata": {},
     "output_type": "execute_result"
    }
   ],
   "source": [
    "#convert dataframe to html table\n",
    "facts_html_table = mars_facts_df.to_html()\n",
    "#facts_html_table = facts_html_table.replace('\\n', '')\n",
    "mars_facts_df.to_html('mars_facts_table.html') \n",
    "facts_html_table"
   ]
  },
  {
   "cell_type": "code",
   "execution_count": 18,
   "metadata": {},
   "outputs": [],
   "source": [
    "cerberus_atmosphere_url = 'https://astrogeology.usgs.gov/search/map/Mars/Viking/cerberus_enhanced'\n",
    "# Retrieve page with the requests module\n",
    "cerb_response = requests.get(cerberus_atmosphere_url)\n",
    "\n",
    "#create BeautifulSoup object; parse with 'html parser'\n",
    "cerb_soup = BeautifulSoup(cerb_response.text, 'html.parser')\n",
    "#print(cerb_soup.prettify())"
   ]
  },
  {
   "cell_type": "code",
   "execution_count": 19,
   "metadata": {},
   "outputs": [
    {
     "name": "stdout",
     "output_type": "stream",
     "text": [
      "{'Title': 'Cerberus Hemisphere Enhanced', 'url': 'http://astropedia.astrogeology.usgs.gov/download/Mars/Viking/cerberus_enhanced.tif/full.jpg'}\n"
     ]
    }
   ],
   "source": [
    "#title and image url for cerberus\n",
    "cerb_image_grab = cerb_soup.find_all('div', class_=\"wide-image-wrapper\")\n",
    "cerb_image_grab\n",
    "\n",
    "for image in cerb_image_grab:\n",
    "    pic = image.find('li')\n",
    "    full_image = pic.find('a')['href']\n",
    "    #print(full_image)\n",
    "\n",
    "cerberus_title = cerb_soup.find('h2', class_='title').text\n",
    "#print(cerberus_title)\n",
    "\n",
    "cerberus_hem = {\"Title\": cerberus_title, \"url\": full_image}\n",
    "print(cerberus_hem)"
   ]
  },
  {
   "cell_type": "code",
   "execution_count": 20,
   "metadata": {},
   "outputs": [],
   "source": [
    "schia_atmosphere_url = 'https://astrogeology.usgs.gov/search/map/Mars/Viking/schiaparelli_enhanced'\n",
    "# Retrieve page with the requests module\n",
    "schia_response = requests.get(schia_atmosphere_url)\n",
    "\n",
    "#create BeautifulSoup object; parse with 'html parser'\n",
    "schia_soup = BeautifulSoup(schia_response.text, 'html.parser')\n",
    "#print(cerb_soup.prettify())"
   ]
  },
  {
   "cell_type": "code",
   "execution_count": 21,
   "metadata": {},
   "outputs": [
    {
     "name": "stdout",
     "output_type": "stream",
     "text": [
      "{'Title': 'Schiaparelli Hemisphere Enhanced', 'url': 'http://astropedia.astrogeology.usgs.gov/download/Mars/Viking/schiaparelli_enhanced.tif/full.jpg'}\n"
     ]
    }
   ],
   "source": [
    "#title and image url for schia\n",
    "schia_image_grab = schia_soup.find_all('div', class_=\"wide-image-wrapper\")\n",
    "schia_image_grab\n",
    "\n",
    "for image in schia_image_grab:\n",
    "    pic = image.find('li')\n",
    "    full_image = pic.find('a')['href']\n",
    "    #print(full_image)\n",
    "\n",
    "schia_title = schia_soup.find('h2', class_='title').text\n",
    "#print(schia_title)\n",
    "\n",
    "schia_hem = {\"Title\": schia_title, \"url\": full_image}\n",
    "print(schia_hem)"
   ]
  },
  {
   "cell_type": "code",
   "execution_count": 22,
   "metadata": {},
   "outputs": [],
   "source": [
    "syrtis_atmosphere_url = 'https://astrogeology.usgs.gov/search/map/Mars/Viking/syrtis_major_enhanced'\n",
    "# Retrieve page with the requests module\n",
    "syrtis_response = requests.get(syrtis_atmosphere_url)\n",
    "\n",
    "#create BeautifulSoup object; parse with 'html parser'\n",
    "syrtis_soup = BeautifulSoup(syrtis_response.text, 'html.parser')\n",
    "#print(syrtis_soup.prettify())"
   ]
  },
  {
   "cell_type": "code",
   "execution_count": 23,
   "metadata": {},
   "outputs": [
    {
     "name": "stdout",
     "output_type": "stream",
     "text": [
      "{'Title': 'Syrtis Major Hemisphere Enhanced', 'url': 'http://astropedia.astrogeology.usgs.gov/download/Mars/Viking/syrtis_major_enhanced.tif/full.jpg'}\n"
     ]
    }
   ],
   "source": [
    "#title and image url for syrtis\n",
    "syrtis_image_grab = syrtis_soup.find_all('div', class_=\"wide-image-wrapper\")\n",
    "syrtis_image_grab\n",
    "\n",
    "for image in syrtis_image_grab:\n",
    "    pic = image.find('li')\n",
    "    full_image = pic.find('a')['href']\n",
    "    #print(full_image)\n",
    "\n",
    "syrtis_title = syrtis_soup.find('h2', class_='title').text\n",
    "#print(syrtis_title)\n",
    "\n",
    "syrtis_hem = {\"Title\": syrtis_title, \"url\": full_image}\n",
    "print(syrtis_hem)"
   ]
  },
  {
   "cell_type": "code",
   "execution_count": 24,
   "metadata": {},
   "outputs": [],
   "source": [
    "valles_atmosphere_url = 'https://astrogeology.usgs.gov/search/map/Mars/Viking/valles_marineris_enhanced'\n",
    "# Retrieve page with the requests module\n",
    "valles_response = requests.get(valles_atmosphere_url)\n",
    "\n",
    "#create BeautifulSoup object; parse with 'html parser'\n",
    "valles_soup = BeautifulSoup(valles_response.text, 'html.parser')\n",
    "#print(valles_soup.prettify())"
   ]
  },
  {
   "cell_type": "code",
   "execution_count": 26,
   "metadata": {},
   "outputs": [
    {
     "name": "stdout",
     "output_type": "stream",
     "text": [
      "{'Title': 'Valles Marineris Hemisphere Enhanced', 'url': 'http://astropedia.astrogeology.usgs.gov/download/Mars/Viking/valles_marineris_enhanced.tif/full.jpg'}\n"
     ]
    }
   ],
   "source": [
    "#title and image url for valles\n",
    "valles_image_grab = valles_soup.find_all('div', class_=\"wide-image-wrapper\")\n",
    "valles_image_grab\n",
    "\n",
    "for image in valles_image_grab:\n",
    "    pic = image.find('li')\n",
    "    full_image = pic.find('a')['href']\n",
    "    #print(full_image)\n",
    "\n",
    "valles_title = valles_soup.find('h2', class_='title').text\n",
    "#print(cerberus_title)\n",
    "\n",
    "valles_hem = {\"Title\": valles_title, \"url\": full_image}\n",
    "print(valles_hem)"
   ]
  },
  {
   "cell_type": "code",
   "execution_count": null,
   "metadata": {},
   "outputs": [],
   "source": []
  }
 ],
 "metadata": {
  "kernelspec": {
   "display_name": "Python 3",
   "language": "python",
   "name": "python3"
  },
  "language_info": {
   "codemirror_mode": {
    "name": "ipython",
    "version": 3
   },
   "file_extension": ".py",
   "mimetype": "text/x-python",
   "name": "python",
   "nbconvert_exporter": "python",
   "pygments_lexer": "ipython3",
   "version": "3.7.1"
  }
 },
 "nbformat": 4,
 "nbformat_minor": 2
}
